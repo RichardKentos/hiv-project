{
 "cells": [
  {
   "cell_type": "code",
   "execution_count": 5,
   "metadata": {},
   "outputs": [],
   "source": [
    "# imports\n",
    "import networkx as nx\n",
    "import pandas as pd\n",
    "from networkx.algorithms import approximation\n",
    "import matplotlib.pyplot as plt"
   ]
  },
  {
   "cell_type": "code",
   "execution_count": 6,
   "metadata": {},
   "outputs": [
    {
     "name": "stdout",
     "output_type": "stream",
     "text": [
      "Whole network: Graph with 35229 nodes and 48892 edges\n"
     ]
    }
   ],
   "source": [
    "# Load the data\n",
    "df = pd.read_csv('./network.csv/edges.csv', usecols=['source', 'target'])\n",
    "\n",
    "G = nx.Graph()\n",
    "\n",
    "sourceList = df['source'].tolist()\n",
    "targetList = df['target'].tolist()\n",
    "# sexList = df['sex'].tolist()\n",
    "added = []\n",
    "for i in range(len(sourceList)):\n",
    "    G.add_edges_from([(sourceList[i], targetList[i])])\n",
    "    added.append((sourceList[i], targetList[i]))\n",
    "print(f'Whole network: {G}')"
   ]
  },
  {
   "cell_type": "code",
   "execution_count": 8,
   "metadata": {},
   "outputs": [
    {
     "name": "stdout",
     "output_type": "stream",
     "text": [
      "Is our graph connected: False\n"
     ]
    }
   ],
   "source": [
    "# Largest  component\n",
    "print(f'Is our graph connected: {nx.is_connected(G)}')\n",
    "largest_cc = max(nx.connected_components(G), key=len)\n",
    "Gcc = G.subgraph(largest_cc)"
   ]
  },
  {
   "cell_type": "code",
   "execution_count": 10,
   "metadata": {},
   "outputs": [
    {
     "ename": "KeyboardInterrupt",
     "evalue": "",
     "output_type": "error",
     "traceback": [
      "\u001b[0;31m---------------------------------------------------------------------------\u001b[0m",
      "\u001b[0;31mAttributeError\u001b[0m                            Traceback (most recent call last)",
      "File \u001b[0;32m~/anaconda3/lib/python3.10/site-packages/networkx/classes/coreviews.py:277\u001b[0m, in \u001b[0;36mFilterAtlas.__iter__\u001b[0;34m(self)\u001b[0m\n\u001b[1;32m    276\u001b[0m \u001b[39mtry\u001b[39;00m:  \u001b[39m# check that NODE_OK has attr 'nodes'\u001b[39;00m\n\u001b[0;32m--> 277\u001b[0m     node_ok_shorter \u001b[39m=\u001b[39m \u001b[39m2\u001b[39m \u001b[39m*\u001b[39m \u001b[39mlen\u001b[39m(\u001b[39mself\u001b[39;49m\u001b[39m.\u001b[39;49mNODE_OK\u001b[39m.\u001b[39;49mnodes) \u001b[39m<\u001b[39m \u001b[39mlen\u001b[39m(\u001b[39mself\u001b[39m\u001b[39m.\u001b[39m_atlas)\n\u001b[1;32m    278\u001b[0m \u001b[39mexcept\u001b[39;00m \u001b[39mAttributeError\u001b[39;00m:\n",
      "\u001b[0;31mAttributeError\u001b[0m: 'function' object has no attribute 'nodes'",
      "\nDuring handling of the above exception, another exception occurred:\n",
      "\u001b[0;31mKeyboardInterrupt\u001b[0m                         Traceback (most recent call last)",
      "\u001b[1;32m/Users/mtrpenovska/Desktop/hiv-project/Centriality.ipynb Cell 4\u001b[0m line \u001b[0;36m3\n\u001b[1;32m      <a href='vscode-notebook-cell:/Users/mtrpenovska/Desktop/hiv-project/Centriality.ipynb#W1sZmlsZQ%3D%3D?line=0'>1</a>\u001b[0m \u001b[39m# Calculating the various centrality measures\u001b[39;00m\n\u001b[1;32m      <a href='vscode-notebook-cell:/Users/mtrpenovska/Desktop/hiv-project/Centriality.ipynb#W1sZmlsZQ%3D%3D?line=1'>2</a>\u001b[0m degree \u001b[39m=\u001b[39m \u001b[39mdict\u001b[39m(Gcc\u001b[39m.\u001b[39mdegree)\n\u001b[0;32m----> <a href='vscode-notebook-cell:/Users/mtrpenovska/Desktop/hiv-project/Centriality.ipynb#W1sZmlsZQ%3D%3D?line=2'>3</a>\u001b[0m closeness \u001b[39m=\u001b[39m nx\u001b[39m.\u001b[39;49mcloseness_centrality(Gcc)\n\u001b[1;32m      <a href='vscode-notebook-cell:/Users/mtrpenovska/Desktop/hiv-project/Centriality.ipynb#W1sZmlsZQ%3D%3D?line=3'>4</a>\u001b[0m betweenness \u001b[39m=\u001b[39m nx\u001b[39m.\u001b[39mbetweenness_centrality(Gcc)\n",
      "File \u001b[0;32m~/anaconda3/lib/python3.10/site-packages/networkx/algorithms/centrality/closeness.py:120\u001b[0m, in \u001b[0;36mcloseness_centrality\u001b[0;34m(G, u, distance, wf_improved)\u001b[0m\n\u001b[1;32m    118\u001b[0m closeness_dict \u001b[39m=\u001b[39m {}\n\u001b[1;32m    119\u001b[0m \u001b[39mfor\u001b[39;00m n \u001b[39min\u001b[39;00m nodes:\n\u001b[0;32m--> 120\u001b[0m     sp \u001b[39m=\u001b[39m path_length(G, n)\n\u001b[1;32m    121\u001b[0m     totsp \u001b[39m=\u001b[39m \u001b[39msum\u001b[39m(sp\u001b[39m.\u001b[39mvalues())\n\u001b[1;32m    122\u001b[0m     len_G \u001b[39m=\u001b[39m \u001b[39mlen\u001b[39m(G)\n",
      "File \u001b[0;32m~/anaconda3/lib/python3.10/site-packages/networkx/algorithms/shortest_paths/unweighted.py:59\u001b[0m, in \u001b[0;36msingle_source_shortest_path_length\u001b[0;34m(G, source, cutoff)\u001b[0m\n\u001b[1;32m     57\u001b[0m     cutoff \u001b[39m=\u001b[39m \u001b[39mfloat\u001b[39m(\u001b[39m\"\u001b[39m\u001b[39minf\u001b[39m\u001b[39m\"\u001b[39m)\n\u001b[1;32m     58\u001b[0m nextlevel \u001b[39m=\u001b[39m {source: \u001b[39m1\u001b[39m}\n\u001b[0;32m---> 59\u001b[0m \u001b[39mreturn\u001b[39;00m \u001b[39mdict\u001b[39;49m(_single_shortest_path_length(G\u001b[39m.\u001b[39;49madj, nextlevel, cutoff))\n",
      "File \u001b[0;32m~/anaconda3/lib/python3.10/site-packages/networkx/algorithms/shortest_paths/unweighted.py:91\u001b[0m, in \u001b[0;36m_single_shortest_path_length\u001b[0;34m(adj, firstlevel, cutoff)\u001b[0m\n\u001b[1;32m     89\u001b[0m         \u001b[39mreturn\u001b[39;00m\n\u001b[1;32m     90\u001b[0m     \u001b[39mfor\u001b[39;00m v \u001b[39min\u001b[39;00m found:\n\u001b[0;32m---> 91\u001b[0m         nextlevel\u001b[39m.\u001b[39;49mupdate(adj[v])\n\u001b[1;32m     92\u001b[0m     level \u001b[39m+\u001b[39m\u001b[39m=\u001b[39m \u001b[39m1\u001b[39m\n\u001b[1;32m     93\u001b[0m \u001b[39mdel\u001b[39;00m seen\n",
      "File \u001b[0;32m~/anaconda3/lib/python3.10/site-packages/networkx/classes/coreviews.py:51\u001b[0m, in \u001b[0;36mAtlasView.__iter__\u001b[0;34m(self)\u001b[0m\n\u001b[1;32m     50\u001b[0m \u001b[39mdef\u001b[39;00m \u001b[39m__iter__\u001b[39m(\u001b[39mself\u001b[39m):\n\u001b[0;32m---> 51\u001b[0m     \u001b[39mreturn\u001b[39;00m \u001b[39miter\u001b[39;49m(\u001b[39mself\u001b[39;49m\u001b[39m.\u001b[39;49m_atlas)\n",
      "File \u001b[0;32m~/anaconda3/lib/python3.10/site-packages/networkx/classes/coreviews.py:277\u001b[0m, in \u001b[0;36mFilterAtlas.__iter__\u001b[0;34m(self)\u001b[0m\n\u001b[1;32m    275\u001b[0m \u001b[39mdef\u001b[39;00m \u001b[39m__iter__\u001b[39m(\u001b[39mself\u001b[39m):\n\u001b[1;32m    276\u001b[0m     \u001b[39mtry\u001b[39;00m:  \u001b[39m# check that NODE_OK has attr 'nodes'\u001b[39;00m\n\u001b[0;32m--> 277\u001b[0m         node_ok_shorter \u001b[39m=\u001b[39m \u001b[39m2\u001b[39m \u001b[39m*\u001b[39m \u001b[39mlen\u001b[39m(\u001b[39mself\u001b[39;49m\u001b[39m.\u001b[39;49mNODE_OK\u001b[39m.\u001b[39;49mnodes) \u001b[39m<\u001b[39m \u001b[39mlen\u001b[39m(\u001b[39mself\u001b[39m\u001b[39m.\u001b[39m_atlas)\n\u001b[1;32m    278\u001b[0m     \u001b[39mexcept\u001b[39;00m \u001b[39mAttributeError\u001b[39;00m:\n\u001b[1;32m    279\u001b[0m         node_ok_shorter \u001b[39m=\u001b[39m \u001b[39mFalse\u001b[39;00m\n",
      "\u001b[0;31mKeyboardInterrupt\u001b[0m: "
     ]
    }
   ],
   "source": [
    "# Calculating the various centrality measures\n",
    "degree = dict(Gcc.degree)\n",
    "closeness = nx.closeness_centrality(Gcc)\n",
    "betweenness = nx.betweenness_centrality(Gcc)"
   ]
  },
  {
   "cell_type": "code",
   "execution_count": 12,
   "metadata": {},
   "outputs": [
    {
     "ename": "KeyboardInterrupt",
     "evalue": "",
     "output_type": "error",
     "traceback": [
      "\u001b[0;31m---------------------------------------------------------------------------\u001b[0m",
      "\u001b[0;31mKeyboardInterrupt\u001b[0m                         Traceback (most recent call last)",
      "\u001b[1;32m/Users/mtrpenovska/Desktop/hiv-project/Centriality.ipynb Cell 5\u001b[0m line \u001b[0;36m7\n\u001b[1;32m      <a href='vscode-notebook-cell:/Users/mtrpenovska/Desktop/hiv-project/Centriality.ipynb#W4sZmlsZQ%3D%3D?line=4'>5</a>\u001b[0m neighbors_i \u001b[39m=\u001b[39m \u001b[39mset\u001b[39m(G\u001b[39m.\u001b[39mneighbors(nodes[i]))\n\u001b[1;32m      <a href='vscode-notebook-cell:/Users/mtrpenovska/Desktop/hiv-project/Centriality.ipynb#W4sZmlsZQ%3D%3D?line=5'>6</a>\u001b[0m \u001b[39mfor\u001b[39;00m j \u001b[39min\u001b[39;00m \u001b[39mrange\u001b[39m(i \u001b[39m+\u001b[39m \u001b[39m1\u001b[39m, \u001b[39mlen\u001b[39m(nodes)):\n\u001b[0;32m----> <a href='vscode-notebook-cell:/Users/mtrpenovska/Desktop/hiv-project/Centriality.ipynb#W4sZmlsZQ%3D%3D?line=6'>7</a>\u001b[0m    neighbors_j \u001b[39m=\u001b[39m \u001b[39mset\u001b[39m(G\u001b[39m.\u001b[39;49mneighbors(nodes[j]))\n\u001b[1;32m      <a href='vscode-notebook-cell:/Users/mtrpenovska/Desktop/hiv-project/Centriality.ipynb#W4sZmlsZQ%3D%3D?line=7'>8</a>\u001b[0m    str_equivalence[(nodes[i], nodes[j])] \u001b[39m=\u001b[39m \u001b[39mlen\u001b[39m(neighbors_i \u001b[39m&\u001b[39m neighbors_j) \u001b[39m/\u001b[39m \u001b[39mlen\u001b[39m(neighbors_i \u001b[39m|\u001b[39m neighbors_j)\n",
      "File \u001b[0;32m~/anaconda3/lib/python3.10/site-packages/networkx/classes/graph.py:1252\u001b[0m, in \u001b[0;36mGraph.neighbors\u001b[0;34m(self, n)\u001b[0m\n\u001b[1;32m   1214\u001b[0m \u001b[39m\"\"\"Returns an iterator over all neighbors of node n.\u001b[39;00m\n\u001b[1;32m   1215\u001b[0m \n\u001b[1;32m   1216\u001b[0m \u001b[39mThis is identical to `iter(G[n])`\u001b[39;00m\n\u001b[0;32m   (...)\u001b[0m\n\u001b[1;32m   1249\u001b[0m \u001b[39m[1]\u001b[39;00m\n\u001b[1;32m   1250\u001b[0m \u001b[39m\"\"\"\u001b[39;00m\n\u001b[1;32m   1251\u001b[0m \u001b[39mtry\u001b[39;00m:\n\u001b[0;32m-> 1252\u001b[0m     \u001b[39mreturn\u001b[39;00m \u001b[39miter\u001b[39;49m(\u001b[39mself\u001b[39;49m\u001b[39m.\u001b[39;49m_adj[n])\n\u001b[1;32m   1253\u001b[0m \u001b[39mexcept\u001b[39;00m \u001b[39mKeyError\u001b[39;00m \u001b[39mas\u001b[39;00m err:\n\u001b[1;32m   1254\u001b[0m     \u001b[39mraise\u001b[39;00m NetworkXError(\u001b[39mf\u001b[39m\u001b[39m\"\u001b[39m\u001b[39mThe node \u001b[39m\u001b[39m{\u001b[39;00mn\u001b[39m}\u001b[39;00m\u001b[39m is not in the graph.\u001b[39m\u001b[39m\"\u001b[39m) \u001b[39mfrom\u001b[39;00m \u001b[39merr\u001b[39;00m\n",
      "\u001b[0;31mKeyboardInterrupt\u001b[0m: "
     ]
    }
   ],
   "source": [
    "# We estimate the structural equivalence using the jaccard coefficient of the neighbor sets of two nodes.\n",
    "nodes = list(Gcc.nodes)\n",
    "str_equivalence = {}\n",
    "for i in range(len(nodes) - 1):\n",
    "   neighbors_i = set(Gcc.neighbors(nodes[i]))\n",
    "   for j in range(i + 1, len(nodes)):\n",
    "      neighbors_j = set(G.neighbors(nodes[j]))\n",
    "      str_equivalence[(nodes[i], nodes[j])] = len(neighbors_i & neighbors_j) / len(neighbors_i | neighbors_j)"
   ]
  },
  {
   "cell_type": "markdown",
   "metadata": {},
   "source": [
    "Finding the most similar nodes"
   ]
  },
  {
   "cell_type": "code",
   "execution_count": 14,
   "metadata": {},
   "outputs": [
    {
     "name": "stdout",
     "output_type": "stream",
     "text": [
      "The pairs of most similar nodes are 11,12; 11,13; 12,13; 14,15; 17,14186; 17,14187; 17,14188; 17,14189; 17,14190; 17,14191; 17,14192; 17,14193; 17,14194; 17,14195; 18,19; 18,20; 18,21; 18,32; 18,34; 18,35; 19,20; 19,21; 19,32; 19,34; 19,35; 20,21; 20,32; 20,34; 20,35; 21,32; 21,34; 21,35; 22,23; 22,24; 22,25; 22,26; 22,27; 22,28; 22,29; 22,30; 22,31; 23,24; 23,25; 23,26; 23,27; 23,28; 23,29; 23,30; 23,31; 24,25; 24,26; 24,27; 24,28; 24,29; 24,30; 24,31; 25,26; 25,27; 25,28; 25,29; 25,30; 25,31; 26,27; 26,28; 26,29; 26,30; 26,31; 27,28; 27,29; 27,30; 27,31; 28,29; 28,30; 28,31; 29,30; 29,31; 30,31; 32,34; 32,35; 34,35; 36,37; 38,39; 38,40; 38,41; 38,42; 38,43; 38,44; 38,45; 38,46; 38,47; 39,40; 39,41; 39,42; 39,43; 39,44; 39,45; 39,46; 39,47; 40,41; 40,42; 40,43; 40,44; 40,45; 40,46; 40,47; 41,42; 41,43; 41,44; 41,45; 41,46; 41,47; 42,43; 42,44; 42,45; 42,46; 42,47; 43,44; 43,45; 43,46; 43,47; 44,45; 44,46; 44,47; 45,46; 45,47; 46,47\n"
     ]
    }
   ],
   "source": [
    "# since there are ties, we need to find all pairs with maximum value\n",
    "max_value = max(str_equivalence.values())\n",
    "most_similar_nodes = [key for key, value in str_equivalence.items() if value == max_value]\n",
    "print(\"The pairs of most similar nodes are %s\" % ('; '.join(\"%s,%s\" % (pair[0], pair[1]) for pair in most_similar_nodes)))"
   ]
  },
  {
   "cell_type": "markdown",
   "metadata": {},
   "source": [
    "Does our network follow sexual preferences or ethnicity?"
   ]
  },
  {
   "cell_type": "code",
   "execution_count": null,
   "metadata": {},
   "outputs": [],
   "source": [
    "# Loop over the edges. Every time we find an edge we already saw, that's a reciprocal one.\n",
    "# Then we keep track of how many have the same sign vs a different sign.\n",
    "edges_saw = {}\n",
    "balance = 0\n",
    "status = 0\n",
    "for e in G.edges(data = True):\n",
    "   canonical_edge_form = (min(e[0], e[1]), max(e[0], e[1]))\n",
    "   if not canonical_edge_form in edges_saw:\n",
    "      edges_saw[canonical_edge_form] = e[2][\"sign\"]\n",
    "   else:\n",
    "      if e[13][\"sign\"] == edges_saw[canonical_edge_form]:\n",
    "         balance += 1\n",
    "      else:\n",
    "         status += 1"
   ]
  },
  {
   "cell_type": "code",
   "execution_count": 16,
   "metadata": {},
   "outputs": [
    {
     "ename": "KeyError",
     "evalue": "'sex'",
     "output_type": "error",
     "traceback": [
      "\u001b[0;31m---------------------------------------------------------------------------\u001b[0m",
      "\u001b[0;31mKeyError\u001b[0m                                  Traceback (most recent call last)",
      "\u001b[1;32m/Users/mtrpenovska/Desktop/hiv-project/Centriality.ipynb Cell 10\u001b[0m line \u001b[0;36m1\n\u001b[1;32m     <a href='vscode-notebook-cell:/Users/mtrpenovska/Desktop/hiv-project/Centriality.ipynb#X12sZmlsZQ%3D%3D?line=14'>15</a>\u001b[0m \u001b[39m# If the edge has not been seen before, store its attributes\u001b[39;00m\n\u001b[1;32m     <a href='vscode-notebook-cell:/Users/mtrpenovska/Desktop/hiv-project/Centriality.ipynb#X12sZmlsZQ%3D%3D?line=15'>16</a>\u001b[0m \u001b[39mif\u001b[39;00m canonical_edge_form \u001b[39mnot\u001b[39;00m \u001b[39min\u001b[39;00m edges_seen:\n\u001b[0;32m---> <a href='vscode-notebook-cell:/Users/mtrpenovska/Desktop/hiv-project/Centriality.ipynb#X12sZmlsZQ%3D%3D?line=16'>17</a>\u001b[0m     edges_seen[canonical_edge_form] \u001b[39m=\u001b[39m e[\u001b[39m2\u001b[39;49m][\u001b[39m'\u001b[39;49m\u001b[39msex\u001b[39;49m\u001b[39m'\u001b[39;49m]  \u001b[39m# Replace 'attribute_name' with the actual attribute\u001b[39;00m\n\u001b[1;32m     <a href='vscode-notebook-cell:/Users/mtrpenovska/Desktop/hiv-project/Centriality.ipynb#X12sZmlsZQ%3D%3D?line=18'>19</a>\u001b[0m \u001b[39m# If the edge has been seen and is reciprocal\u001b[39;00m\n\u001b[1;32m     <a href='vscode-notebook-cell:/Users/mtrpenovska/Desktop/hiv-project/Centriality.ipynb#X12sZmlsZQ%3D%3D?line=19'>20</a>\u001b[0m \u001b[39melse\u001b[39;00m:\n\u001b[1;32m     <a href='vscode-notebook-cell:/Users/mtrpenovska/Desktop/hiv-project/Centriality.ipynb#X12sZmlsZQ%3D%3D?line=20'>21</a>\u001b[0m     \u001b[39m# Compare the attribute of the current edge with the previously seen one\u001b[39;00m\n\u001b[1;32m     <a href='vscode-notebook-cell:/Users/mtrpenovska/Desktop/hiv-project/Centriality.ipynb#X12sZmlsZQ%3D%3D?line=21'>22</a>\u001b[0m     \u001b[39mif\u001b[39;00m e[\u001b[39m2\u001b[39m][\u001b[39m'\u001b[39m\u001b[39methn\u001b[39m\u001b[39m'\u001b[39m] \u001b[39m==\u001b[39m edges_seen[canonical_edge_form]:  \u001b[39m# Replace 'attribute_name' with the actual attribute\u001b[39;00m\n",
      "\u001b[0;31mKeyError\u001b[0m: 'sex'"
     ]
    }
   ],
   "source": [
    "# Assume 'G' is a NetworkX graph with 'sexual_preference' or 'ethnicity' as edge attributes\n",
    "\n",
    "# Initialize counters for homophily and heterophily\n",
    "homophily_count = 0\n",
    "heterophily_count = 0\n",
    "\n",
    "# Dictionary to keep track of edges we've seen\n",
    "edges_seen = {}\n",
    "\n",
    "# Loop over the edges\n",
    "for e in G.edges(data=True):\n",
    "    # Create a canonical form of the edge, ignoring direction\n",
    "    canonical_edge_form = tuple(sorted((e[0], e[1])))\n",
    "\n",
    "    # If the edge has not been seen before, store its attributes\n",
    "    if canonical_edge_form not in edges_seen:\n",
    "        edges_seen[canonical_edge_form] = e[2]['sex']  # Replace 'attribute_name' with the actual attribute\n",
    "\n",
    "    # If the edge has been seen and is reciprocal\n",
    "    else:\n",
    "        # Compare the attribute of the current edge with the previously seen one\n",
    "        if e[2]['ethn'] == edges_seen[canonical_edge_form]:  # Replace 'attribute_name' with the actual attribute\n",
    "            homophily_count += 1\n",
    "        else:\n",
    "            heterophily_count += 1\n",
    "\n",
    "# Print out the results\n",
    "print(f'Homophily: {homophily_count}')\n",
    "print(f'Heterophily: {heterophily_count}')"
   ]
  }
 ],
 "metadata": {
  "kernelspec": {
   "display_name": "base",
   "language": "python",
   "name": "python3"
  },
  "language_info": {
   "codemirror_mode": {
    "name": "ipython",
    "version": 3
   },
   "file_extension": ".py",
   "mimetype": "text/x-python",
   "name": "python",
   "nbconvert_exporter": "python",
   "pygments_lexer": "ipython3",
   "version": "3.10.9"
  }
 },
 "nbformat": 4,
 "nbformat_minor": 2
}
