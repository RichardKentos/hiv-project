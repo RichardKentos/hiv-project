{
 "cells": [
  {
   "cell_type": "code",
   "execution_count": 2,
   "metadata": {},
   "outputs": [],
   "source": [
    "import random\n",
    "import networkx as nx\n",
    "import pandas as pd"
   ]
  },
  {
   "cell_type": "code",
   "execution_count": 13,
   "metadata": {},
   "outputs": [],
   "source": [
    "# A function to make the simple SI step. Loop over\n",
    "# all neighbors of nodes in I and transition them\n",
    "# to I with probability beta.\n",
    "def si(G, i_nodes, beta, vaccinated=[]):\n",
    "   new_infected = i_nodes.copy()\n",
    "   s_neighbors_of_i = {n for i_node in i_nodes for n in G.neighbors(i_node)}\n",
    "   for s_node in s_neighbors_of_i:\n",
    "      if random.random() < beta and s_node not in vaccinated:\n",
    "         new_infected.add(s_node)\n",
    "   return new_infected"
   ]
  },
  {
   "cell_type": "code",
   "execution_count": 7,
   "metadata": {},
   "outputs": [],
   "source": [
    "# Load the data\n",
    "df = pd.read_csv('./network.csv/edges.csv', usecols=['source', 'target'])\n",
    "G = nx.Graph()\n",
    "\n",
    "sourceList = df['source'].tolist()\n",
    "targetList = df['target'].tolist()\n",
    "# sexList = df['sex'].tolist()\n",
    "added = []\n",
    "for i in range(len(sourceList)):\n",
    "    G.add_edges_from([(sourceList[i], targetList[i])])\n",
    "    added.append((sourceList[i], targetList[i]))\n",
    "\n",
    "largest_cc = max(nx.connected_components(G), key=len)\n",
    "Gcc = G.subgraph(largest_cc)"
   ]
  },
  {
   "cell_type": "markdown",
   "metadata": {},
   "source": [
    "# Infection time"
   ]
  },
  {
   "cell_type": "markdown",
   "metadata": {},
   "source": [
    "## Choosing starting nodes randomly"
   ]
  },
  {
   "cell_type": "code",
   "execution_count": 8,
   "metadata": {},
   "outputs": [
    {
     "name": "stdout",
     "output_type": "stream",
     "text": [
      "Beta = 0.05, avg steps to 80% infection: 89.30 days.\n",
      "Beta = 0.10, avg steps to 80% infection: 56.20 days.\n",
      "Beta = 0.20, avg steps to 80% infection: 25.40 days.\n"
     ]
    }
   ],
   "source": [
    "# Run the model for different beta values = spreading rates\n",
    "for beta in (0.05, 0.1, 0.2):\n",
    "   # Run it 10 times for each beta value\n",
    "   ts_to_infect = []\n",
    "   for _ in range(10):\n",
    "      # Pick the initial infected set\n",
    "      i_nodes = set(random.sample(sorted(set(Gcc.nodes)), 1))\n",
    "      # Run until we infected the entire network\n",
    "      t = 0\n",
    "      while (len(i_nodes) / len(Gcc.nodes)) < 0.8:\n",
    "         i_nodes = si(Gcc, i_nodes, beta)\n",
    "         t += 1\n",
    "      ts_to_infect.append(t)\n",
    "   print(\"Beta = %1.2f, avg steps to 80%% infection: %1.2f days.\" % (beta, sum(ts_to_infect) / len(ts_to_infect)))"
   ]
  },
  {
   "cell_type": "markdown",
   "metadata": {},
   "source": [
    "## Choosing the node with the highest degree"
   ]
  },
  {
   "cell_type": "code",
   "execution_count": 16,
   "metadata": {},
   "outputs": [
    {
     "name": "stdout",
     "output_type": "stream",
     "text": [
      "Beta = 0.05, avg steps to 80% infection: 68.70 days.\n",
      "Beta = 0.10, avg steps to 80% infection: 35.00 days.\n",
      "Beta = 0.20, avg steps to 80% infection: 17.80 days.\n"
     ]
    }
   ],
   "source": [
    "# Let's try to deliberately choose the hubs\n",
    "# Node #800 has the highest degree, we choose that one\n",
    "# Run the model for different beta values = spreading rates\n",
    "for beta in (0.05, 0.1, 0.2):\n",
    "   # Run it 10 times for each beta value\n",
    "   ts_to_infect = []\n",
    "   for _ in range(10):\n",
    "      # Pick the initial infected set\n",
    "      i_nodes = set([list(Gcc.nodes)[list(Gcc.nodes).index(800)]])\n",
    "      # Run until we infected the entire network\n",
    "      t = 0\n",
    "      while (len(i_nodes) / len(Gcc.nodes)) < 0.8:\n",
    "         i_nodes = si(Gcc, i_nodes, beta)\n",
    "         t += 1\n",
    "      ts_to_infect.append(t)\n",
    "   print(\"Beta = %1.2f, avg steps to 80%% infection: %1.2f days.\" % (beta, sum(ts_to_infect) / len(ts_to_infect)))"
   ]
  },
  {
   "cell_type": "markdown",
   "metadata": {},
   "source": [
    "# Let's introduce vaccination"
   ]
  },
  {
   "cell_type": "markdown",
   "metadata": {},
   "source": [
    "## Vaccinate the hub, spread randomly"
   ]
  },
  {
   "cell_type": "code",
   "execution_count": 17,
   "metadata": {},
   "outputs": [
    {
     "name": "stdout",
     "output_type": "stream",
     "text": [
      "Beta = 0.05, avg steps to 80% infection: 98.80 days.\n",
      "Beta = 0.10, avg steps to 80% infection: 51.40 days.\n",
      "Beta = 0.20, avg steps to 80% infection: 26.90 days.\n"
     ]
    }
   ],
   "source": [
    "# Let's try to vaccinate some nodes\n",
    "\n",
    "# Run the model for different beta values = spreading rates\n",
    "for beta in (0.05, 0.1, 0.2):\n",
    "   # Run it 10 times for each beta value\n",
    "   ts_to_infect = []\n",
    "   for _ in range(10):\n",
    "      # Pick the initial infected set\n",
    "      i_nodes = set(random.sample(sorted(set(Gcc.nodes)), 1))\n",
    "      # Run until we infected the entire network\n",
    "      t = 0\n",
    "      while (len(i_nodes) / len(Gcc.nodes)) < 0.8:\n",
    "         i_nodes = si(Gcc, i_nodes, beta, [list(Gcc.nodes)[list(Gcc.nodes).index(800)],list(Gcc.nodes)[list(Gcc.nodes).index(289)],list(Gcc.nodes)[list(Gcc.nodes).index(0)]])\n",
    "         t += 1\n",
    "      ts_to_infect.append(t)\n",
    "   print(\"Beta = %1.2f, avg steps to 80%% infection: %1.2f days.\" % (beta, sum(ts_to_infect) / len(ts_to_infect)))"
   ]
  },
  {
   "cell_type": "markdown",
   "metadata": {},
   "source": [
    "## Vaccinate 3 males?"
   ]
  },
  {
   "cell_type": "code",
   "execution_count": null,
   "metadata": {},
   "outputs": [],
   "source": [
    "# Let's try to vaccinate some nodes"
   ]
  },
  {
   "cell_type": "markdown",
   "metadata": {},
   "source": [
    "## Vaccinate 3 females"
   ]
  },
  {
   "cell_type": "code",
   "execution_count": null,
   "metadata": {},
   "outputs": [],
   "source": [
    "# Let's try to vaccinate some nodes"
   ]
  },
  {
   "cell_type": "markdown",
   "metadata": {},
   "source": [
    "## Vaccinate 3 homosexuals"
   ]
  },
  {
   "cell_type": "code",
   "execution_count": null,
   "metadata": {},
   "outputs": [],
   "source": [
    "# Let's try to vaccinate some nodes"
   ]
  },
  {
   "cell_type": "markdown",
   "metadata": {},
   "source": [
    "## Vaccinate 3 heterosexuals"
   ]
  },
  {
   "cell_type": "code",
   "execution_count": null,
   "metadata": {},
   "outputs": [],
   "source": [
    "# Let's try to vaccinate some nodes"
   ]
  }
 ],
 "metadata": {
  "kernelspec": {
   "display_name": "Python 3",
   "language": "python",
   "name": "python3"
  },
  "language_info": {
   "codemirror_mode": {
    "name": "ipython",
    "version": 3
   },
   "file_extension": ".py",
   "mimetype": "text/x-python",
   "name": "python",
   "nbconvert_exporter": "python",
   "pygments_lexer": "ipython3",
   "version": "3.11.6"
  },
  "orig_nbformat": 4
 },
 "nbformat": 4,
 "nbformat_minor": 2
}
