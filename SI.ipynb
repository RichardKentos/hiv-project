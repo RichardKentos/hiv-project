{
 "cells": [
  {
   "cell_type": "code",
   "execution_count": 8,
   "metadata": {},
   "outputs": [],
   "source": [
    "import random\n",
    "import networkx as nx\n",
    "import pandas as pd"
   ]
  },
  {
   "cell_type": "code",
   "execution_count": 42,
   "metadata": {},
   "outputs": [],
   "source": [
    "# A function to make the simple SI step. Loop over\n",
    "# all neighbors of nodes in I and transition them\n",
    "# to I with probability beta.\n",
    "def si(G, infected_nodes, beta, vaccinated=[]):\n",
    "   new_infected = infected_nodes.copy()\n",
    "   # vulnerable_neighbors_of_i = {n for infected_node in infected_nodes for n in G.neighbors(infected_node)} # Typeof = set\n",
    "   # vulnerable_neighbors_of_infected = [n for infected_node in infected_nodes for n in G.neighbors(infected_node)] # Typeof = list\n",
    "   vulnerable_neighbors_of_infected = []\n",
    "   for infected_node in infected_nodes:\n",
    "      for n in G.neighbors(infected_node):\n",
    "         vulnerable_neighbors_of_infected.append(n)\n",
    "   for vulnerable_node in vulnerable_neighbors_of_infected:\n",
    "      if random.random() < beta and vulnerable_node not in vaccinated:\n",
    "         new_infected.add(vulnerable_node)\n",
    "   return new_infected"
   ]
  },
  {
   "cell_type": "code",
   "execution_count": 5,
   "metadata": {},
   "outputs": [
    {
     "name": "stdout",
     "output_type": "stream",
     "text": [
      "Number of males: 11340\n",
      "Number of females: 11471\n",
      "26706\n",
      "0.02855217832419135\n"
     ]
    }
   ],
   "source": [
    "# Load the data\n",
    "df = pd.read_csv('./network.csv/edges.csv', usecols=['source', 'target'])\n",
    "dfNodes = pd.read_csv('./network.csv/nodes.csv', usecols=['name', 'SEX'])\n",
    "G = nx.Graph()\n",
    "\n",
    "sourceList = df['source'].tolist()\n",
    "targetList = df['target'].tolist()\n",
    "# sexList = df['sex'].tolist()\n",
    "added = []\n",
    "for i in range(len(sourceList)):\n",
    "    G.add_edges_from([(sourceList[i], targetList[i])])\n",
    "    added.append((sourceList[i], targetList[i]))\n",
    "\n",
    "nameList = dfNodes['name'].tolist()\n",
    "sexList = dfNodes['SEX'].tolist()\n",
    "\n",
    "for i in range(len(nameList)):\n",
    "    G.add_nodes_from([\n",
    "    (nameList[i], {\"sex\": sexList[i]})\n",
    "])\n",
    "\n",
    "largest_cc = max(nx.connected_components(G), key=len)\n",
    "Gcc = G.subgraph(largest_cc)\n",
    "\n",
    "sex = nx.get_node_attributes(Gcc, \"sex\")\n",
    "sex = list(sex.values())\n",
    "print(f'Number of males: {sex.count(0)}')\n",
    "print(f'Number of females: {sex.count(1)}')\n",
    "print(len(Gcc.nodes))\n",
    "\n",
    "sex_assortativity = nx.attribute_assortativity_coefficient(Gcc,'sex')\n",
    "print(sex_assortativity)"
   ]
  },
  {
   "cell_type": "markdown",
   "metadata": {},
   "source": [
    "# Infection time"
   ]
  },
  {
   "cell_type": "markdown",
   "metadata": {},
   "source": [
    "## Choosing starting nodes randomly"
   ]
  },
  {
   "cell_type": "code",
   "execution_count": 37,
   "metadata": {},
   "outputs": [
    {
     "name": "stdout",
     "output_type": "stream",
     "text": [
      "Beta = 0.05, avg steps to 80% infection: 77.30 days.\n",
      "Beta = 0.10, avg steps to 80% infection: 34.70 days.\n",
      "Beta = 0.20, avg steps to 80% infection: 19.60 days.\n"
     ]
    }
   ],
   "source": [
    "# Run the model for different beta values = spreading rates\n",
    "for beta in (0.05, 0.1, 0.2):\n",
    "   # Run it 10 times for each beta value\n",
    "   ts_to_infect = []\n",
    "   for _ in range(10):\n",
    "      # Pick the initial infected set\n",
    "      i_nodes = set(random.sample(sorted(set(Gcc.nodes)), 1))\n",
    "      # Run until we infected the entire network\n",
    "      t = 0\n",
    "      while (len(i_nodes) / len(Gcc.nodes)) < 0.8:\n",
    "         i_nodes = si(Gcc, i_nodes, beta)\n",
    "         t += 1\n",
    "      ts_to_infect.append(t)\n",
    "   print(\"Beta = %1.2f, avg steps to 80%% infection: %1.2f days.\" % (beta, sum(ts_to_infect) / len(ts_to_infect)))"
   ]
  },
  {
   "cell_type": "code",
   "execution_count": 45,
   "metadata": {},
   "outputs": [
    {
     "name": "stdout",
     "output_type": "stream",
     "text": [
      "Beta = 0.05, avg steps to 80% infection: 77.88 days.\n",
      "Beta = 0.10, avg steps to 80% infection: 35.20 days.\n",
      "Beta = 0.20, avg steps to 80% infection: 20.30 days.\n"
     ]
    }
   ],
   "source": [
    "# Run the model for different beta values = spreading rates\n",
    "for beta in (0.05, 0.1, 0.2):\n",
    "   # Run it 10 times for each beta value\n",
    "   ts_to_infect = []\n",
    "   for _ in range(50):\n",
    "      # Pick the initial infected set\n",
    "      i_nodes = set(random.sample(sorted(set(Gcc.nodes)), 1))\n",
    "      # Run until we infected the entire network\n",
    "      t = 0\n",
    "      while (len(i_nodes) / len(Gcc.nodes)) < 0.8:\n",
    "         i_nodes = si(Gcc, i_nodes, beta)\n",
    "         t += 1\n",
    "      ts_to_infect.append(t)\n",
    "   print(\"Beta = %1.2f, avg steps to 80%% infection: %1.2f days.\" % (beta, sum(ts_to_infect) / len(ts_to_infect)))"
   ]
  },
  {
   "cell_type": "markdown",
   "metadata": {},
   "source": [
    "## Choosing the node with the highest degree"
   ]
  },
  {
   "cell_type": "code",
   "execution_count": null,
   "metadata": {},
   "outputs": [
    {
     "name": "stdout",
     "output_type": "stream",
     "text": [
      "Beta = 0.05, avg steps to 80% infection: 68.70 days.\n",
      "Beta = 0.10, avg steps to 80% infection: 35.00 days.\n",
      "Beta = 0.20, avg steps to 80% infection: 17.80 days.\n"
     ]
    }
   ],
   "source": [
    "# Let's try to deliberately choose the hubs\n",
    "# Node #800 has the highest degree, we choose that one\n",
    "# Run the model for different beta values = spreading rates\n",
    "for beta in (0.05, 0.1, 0.2):\n",
    "   # Run it 10 times for each beta value\n",
    "   ts_to_infect = []\n",
    "   for _ in range(10):\n",
    "      # Pick the initial infected set\n",
    "      i_nodes = set([list(Gcc.nodes)[list(Gcc.nodes).index(800)]])\n",
    "      # Run until we infected the entire network\n",
    "      t = 0\n",
    "      while (len(i_nodes) / len(Gcc.nodes)) < 0.8:\n",
    "         i_nodes = si(Gcc, i_nodes, beta)\n",
    "         t += 1\n",
    "      ts_to_infect.append(t)\n",
    "   print(\"Beta = %1.2f, avg steps to 80%% infection: %1.2f days.\" % (beta, sum(ts_to_infect) / len(ts_to_infect)))"
   ]
  },
  {
   "cell_type": "markdown",
   "metadata": {},
   "source": [
    "# Let's introduce vaccination"
   ]
  },
  {
   "cell_type": "markdown",
   "metadata": {},
   "source": [
    "## Vaccinate the hub, spread randomly"
   ]
  },
  {
   "cell_type": "code",
   "execution_count": null,
   "metadata": {},
   "outputs": [
    {
     "name": "stdout",
     "output_type": "stream",
     "text": [
      "Beta = 0.05, avg steps to 80% infection: 98.80 days.\n",
      "Beta = 0.10, avg steps to 80% infection: 51.40 days.\n",
      "Beta = 0.20, avg steps to 80% infection: 26.90 days.\n"
     ]
    }
   ],
   "source": [
    "# Let's try to vaccinate some nodes\n",
    "\n",
    "# Run the model for different beta values = spreading rates\n",
    "for beta in (0.05, 0.1, 0.2):\n",
    "   # Run it 10 times for each beta value\n",
    "   ts_to_infect = []\n",
    "   for _ in range(10):\n",
    "      # Pick the initial infected set\n",
    "      i_nodes = set(random.sample(sorted(set(Gcc.nodes)), 1))\n",
    "      # Run until we infected the entire network\n",
    "      t = 0\n",
    "      while (len(i_nodes) / len(Gcc.nodes)) < 0.8:\n",
    "         i_nodes = si(Gcc, i_nodes, beta, [list(Gcc.nodes)[list(Gcc.nodes).index(800)],list(Gcc.nodes)[list(Gcc.nodes).index(289)],list(Gcc.nodes)[list(Gcc.nodes).index(0)]])\n",
    "         t += 1\n",
    "      ts_to_infect.append(t)\n",
    "   print(\"Beta = %1.2f, avg steps to 80%% infection: %1.2f days.\" % (beta, sum(ts_to_infect) / len(ts_to_infect)))"
   ]
  },
  {
   "cell_type": "markdown",
   "metadata": {},
   "source": [
    "## Vaccinate 3 males?"
   ]
  },
  {
   "cell_type": "code",
   "execution_count": null,
   "metadata": {},
   "outputs": [],
   "source": [
    "# Let's try to vaccinate some nodes"
   ]
  },
  {
   "cell_type": "markdown",
   "metadata": {},
   "source": [
    "## Vaccinate 3 females"
   ]
  },
  {
   "cell_type": "code",
   "execution_count": null,
   "metadata": {},
   "outputs": [],
   "source": [
    "# Let's try to vaccinate some nodes"
   ]
  },
  {
   "cell_type": "markdown",
   "metadata": {},
   "source": [
    "## Vaccinate 3 homosexuals"
   ]
  },
  {
   "cell_type": "code",
   "execution_count": null,
   "metadata": {},
   "outputs": [],
   "source": [
    "# Let's try to vaccinate some nodes"
   ]
  },
  {
   "cell_type": "markdown",
   "metadata": {},
   "source": [
    "## Vaccinate 3 heterosexuals"
   ]
  },
  {
   "cell_type": "code",
   "execution_count": null,
   "metadata": {},
   "outputs": [],
   "source": [
    "# Let's try to vaccinate some nodes"
   ]
  }
 ],
 "metadata": {
  "kernelspec": {
   "display_name": "Python 3",
   "language": "python",
   "name": "python3"
  },
  "language_info": {
   "codemirror_mode": {
    "name": "ipython",
    "version": 3
   },
   "file_extension": ".py",
   "mimetype": "text/x-python",
   "name": "python",
   "nbconvert_exporter": "python",
   "pygments_lexer": "ipython3",
   "version": "3.10.9"
  },
  "orig_nbformat": 4
 },
 "nbformat": 4,
 "nbformat_minor": 2
}
