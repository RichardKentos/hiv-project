{
 "cells": [
  {
   "cell_type": "code",
   "execution_count": 64,
   "metadata": {},
   "outputs": [],
   "source": [
    "# imports\n",
    "import networkx as nx\n",
    "import pandas as pd"
   ]
  },
  {
   "cell_type": "code",
   "execution_count": 86,
   "metadata": {},
   "outputs": [
    {
     "name": "stdout",
     "output_type": "stream",
     "text": [
      "Graph with 35229 nodes and 48892 edges\n"
     ]
    }
   ],
   "source": [
    "# Load the data\n",
    "df = pd.read_csv('./network.csv/edges.csv', usecols=['source', 'target'])\n",
    "\n",
    "G = nx.Graph()\n",
    "\n",
    "sourceList = df['source'].tolist()\n",
    "targetList = df['target'].tolist()\n",
    "added = []\n",
    "for i in range(len(sourceList)):\n",
    "    G.add_edges_from([(sourceList[i], targetList[i])])\n",
    "    added.append((sourceList[i], targetList[i]))\n",
    "print(G)"
   ]
  },
  {
   "cell_type": "code",
   "execution_count": null,
   "metadata": {},
   "outputs": [],
   "source": []
  }
 ],
 "metadata": {
  "kernelspec": {
   "display_name": "Python 3",
   "language": "python",
   "name": "python3"
  },
  "language_info": {
   "codemirror_mode": {
    "name": "ipython",
    "version": 3
   },
   "file_extension": ".py",
   "mimetype": "text/x-python",
   "name": "python",
   "nbconvert_exporter": "python",
   "pygments_lexer": "ipython3",
   "version": "3.11.6"
  },
  "orig_nbformat": 4
 },
 "nbformat": 4,
 "nbformat_minor": 2
}
